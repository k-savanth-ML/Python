{
 "cells": [
  {
   "cell_type": "code",
   "execution_count": null,
   "id": "dc884848-4783-4499-8e17-4d354f934a66",
   "metadata": {},
   "outputs": [],
   "source": [
    "def num(arr):\n",
    "    l = len(arr)\n",
    "    new_list=[]\n",
    "    for i in range(l):\n",
    "        a = str(i)\n",
    "        b=0\n",
    "        for j in range(a):\n",
    "            b=b+int(j)\n",
    "        new_list.append(b))"
   ]
  },
  {
   "cell_type": "code",
   "execution_count": 6,
   "id": "b189d9d3-af76-4b58-9777-b5d18bbf0d83",
   "metadata": {},
   "outputs": [
    {
     "name": "stdout",
     "output_type": "stream",
     "text": [
      "[3, 7, 5, 9]\n"
     ]
    }
   ],
   "source": [
    "def sum(a):\n",
    "    a =abs(a)\n",
    "    sum1 =0\n",
    "    while(a!=0):\n",
    "        sum1 = sum1+(a%10)\n",
    "        a = a//10\n",
    "    return sum1\n",
    "\n",
    "arr=[12,34,23,45]\n",
    "new_arr=[sum(i) for i in arr ]\n",
    "print(new_arr)\n",
    "\n",
    "# for i in arr:\n",
    "#     new_arr.append(sum(i))\n",
    "    \n",
    "    "
   ]
  },
  {
   "cell_type": "code",
   "execution_count": 47,
   "id": "7e7ccd94-c3ec-44f5-a9d1-9d61eb52c71a",
   "metadata": {},
   "outputs": [
    {
     "name": "stdout",
     "output_type": "stream",
     "text": [
      "{1: 'None'}\n",
      "[]\n",
      "[1]\n"
     ]
    }
   ],
   "source": [
    "lb = 1\n",
    "ub = 2\n",
    "even=[]\n",
    "odd=[]\n",
    "for i in range(lb, ub):\n",
    "    if i%2==0:\n",
    "        even.append(i)\n",
    "    else:\n",
    "        odd.append(i)\n",
    "dict1={}\n",
    "if (lb%2 != 0 and ub%2 ==0):\n",
    "    for i in range(len(even)):\n",
    "        dict1[odd[i]]= even[i]\n",
    "    dict1[odd[-1]] = \"None\"\n",
    "elif (lb%2 ==0 and ub%2 ==0) or (lb%2 !=0 and ub%2 !=0):\n",
    "    if ub ==2:\n",
    "        dict1[0] =\"None\"\n",
    "    else:  \n",
    "        for i in range(len(even)):\n",
    "            dict1[odd[i]]= even[i]\n",
    "elif (lb%2 ==0 and ub%2 != 0):\n",
    "    # even.pop(0)\n",
    "    if len(even)>0:\n",
    "        for i in range(len(odd)):\n",
    "            dict1[odd[i]]= even[i+1]\n",
    "    else:\n",
    "        dict1[odd[0]] = \"None\"\n",
    "    \n",
    "print(dict1)   \n",
    "print(even)\n",
    "print(odd)"
   ]
  },
  {
   "cell_type": "code",
   "execution_count": 38,
   "id": "56e9ff8e-b14b-4d1f-b780-f1c9dee68b8e",
   "metadata": {},
   "outputs": [
    {
     "name": "stdout",
     "output_type": "stream",
     "text": [
      "HI\n",
      "Hello\n",
      "MapleLabs\n",
      "Welcome\n"
     ]
    }
   ],
   "source": [
    "file=open(\"text.txt\", 'r')\n",
    "s=\"\"\n",
    "for i in file.readlines():\n",
    "    s+=i\n",
    "print(s)"
   ]
  },
  {
   "cell_type": "code",
   "execution_count": 76,
   "id": "4ecb1e95-09b4-4b2a-a4ec-247cd42d370a",
   "metadata": {},
   "outputs": [
    {
     "name": "stdout",
     "output_type": "stream",
     "text": [
      "5\n",
      "2024-08-25 2:1:23 INFO Starting the application\n",
      "\n",
      "2024-08-25 10:16:45 WARN Low memory warning\n",
      "\n",
      "2024-08-25 10:17:10 ERROR Unable to connect to database\n",
      "\n",
      "2024-08-25 10:20:00 INFO Application shutdown\n",
      "\n",
      "2024-08-25 10:21:30 INFO Backup completed successfully\n"
     ]
    }
   ],
   "source": [
    "file=open(\"text1.txt\", 'r')\n",
    "#print(file.read())\n",
    "# print(file.readlines())\n",
    "lines = file.readlines()\n",
    "print(len(lines))\n",
    "for i in lines:\n",
    "    print(i)\n",
    "    \n",
    "\n"
   ]
  },
  {
   "cell_type": "code",
   "execution_count": 68,
   "id": "de3f9f30-44c2-47bd-af50-c4a9b5daf2d7",
   "metadata": {},
   "outputs": [
    {
     "name": "stdout",
     "output_type": "stream",
     "text": [
      "50\n",
      "44\n",
      "56\n",
      "46\n",
      "54\n"
     ]
    }
   ],
   "source": [
    "for i in lines:\n",
    "    print(len(i))"
   ]
  },
  {
   "cell_type": "code",
   "execution_count": 71,
   "id": "083d4697-082c-43d4-b61d-4531acad6fd0",
   "metadata": {},
   "outputs": [
    {
     "name": "stdout",
     "output_type": "stream",
     "text": [
      "6\n",
      "6\n",
      "8\n",
      "5\n",
      "6\n"
     ]
    }
   ],
   "source": [
    "for i in lines:\n",
    "    print(len(i.split()))\n",
    "    \n",
    "    # print(len(str(lines[i].split())))"
   ]
  },
  {
   "cell_type": "code",
   "execution_count": 88,
   "id": "f38d6432-312c-40c8-89aa-b2b61e21d0e4",
   "metadata": {},
   "outputs": [
    {
     "name": "stdout",
     "output_type": "stream",
     "text": [
      "2:1:23\n",
      "10:16:45\n",
      "10:17:10\n",
      "10:20:00\n",
      "10:21:30\n"
     ]
    }
   ],
   "source": [
    "for i in lines:\n",
    "    print(i.split()[1])\n",
    "    # print(i[1])\n",
    "    "
   ]
  },
  {
   "cell_type": "code",
   "execution_count": 96,
   "id": "8b4e862e-6390-4eab-8713-185c64da6371",
   "metadata": {},
   "outputs": [
    {
     "name": "stdout",
     "output_type": "stream",
     "text": [
      "{'2:1:23': 'INFO Starting the application', '10:16:45': 'WARN Low memory warning', '10:17:10': 'ERROR Unable to connect to database', '10:20:00': 'INFO Application shutdown', '10:21:30': 'INFO Backup completed successfully'}\n"
     ]
    }
   ],
   "source": [
    "dict1 ={}\n",
    "for i in lines:\n",
    "    a = i.split()\n",
    "    b = \" \".join(a[2:])\n",
    "    dict1[a[1]] = b\n",
    "print(dict1)\n",
    "    # print(f\"For the timestamp {a[1]} the error is {a[2:]}\")"
   ]
  },
  {
   "cell_type": "code",
   "execution_count": 100,
   "id": "9684b70d-1568-422d-9ff0-14b4dfb95eb0",
   "metadata": {},
   "outputs": [
    {
     "name": "stdin",
     "output_type": "stream",
     "text": [
      "Enter the timestamp 10:20:00\n"
     ]
    },
    {
     "name": "stdout",
     "output_type": "stream",
     "text": [
      "For the timestamp 10:20:00 the error is: INFO Application shutdown\n"
     ]
    }
   ],
   "source": [
    "a = input(\"Enter the timestamp\")\n",
    "print(f\"For the timestamp {a} the error is: {dict1[a]}\")"
   ]
  },
  {
   "cell_type": "code",
   "execution_count": 106,
   "id": "b701070b-c412-4633-bf42-216582708b54",
   "metadata": {},
   "outputs": [
    {
     "name": "stdout",
     "output_type": "stream",
     "text": [
      "{'INFO': ['INFO Starting the application', 'INFO Application shutdown', 'INFO Backup completed successfully'], 'WARN': ['WARN Low memory warning'], 'ERROR': ['ERROR Unable to connect to database']}\n"
     ]
    }
   ],
   "source": [
    "dict2={}\n",
    "# a=[\"INFO\", \"WARN\", \"ERROR\"]\n",
    "# dict2=dict2.fromkeys(a)\n",
    "\n",
    "info=[]\n",
    "warn=[]\n",
    "error=[]\n",
    "for i in lines:\n",
    "    a = i.split()\n",
    "    for j in a:\n",
    "        if j ==\"INFO\":\n",
    "            info.append(\" \".join(a[2:]))\n",
    "            break\n",
    "        elif j ==\"WARN\":\n",
    "            warn.append(\" \".join(a[2:]))\n",
    "            break\n",
    "        elif j ==\"ERROR\":\n",
    "            error.append(\" \".join(a[2:]))\n",
    "            break\n",
    "dict2[\"INFO\"] = info\n",
    "dict2[\"WARN\"] = warn \n",
    "dict2[\"ERROR\"] = error\n",
    "print(dict2)\n",
    "\n",
    "    "
   ]
  },
  {
   "cell_type": "code",
   "execution_count": 124,
   "id": "f155e3be-96b6-48a6-98b3-730a7c218bd6",
   "metadata": {},
   "outputs": [
    {
     "name": "stdout",
     "output_type": "stream",
     "text": [
      "['ERROR', 'WARN', 'INFO']\n",
      "['INFO Starting the application', 'WARN Low memory warning', 'ERROR Unable to connect to database', 'INFO Application shutdown', 'INFO Backup completed successfully']\n",
      "{'ERROR': ['ERROR Unable to connect to database'], 'WARN': ['WARN Low memory warning'], 'INFO': ['INFO Starting the application', 'INFO Application shutdown', 'INFO Backup completed successfully']}\n"
     ]
    }
   ],
   "source": [
    "dict3={}\n",
    "a = [i.split()[2] for i in lines]\n",
    "b = list(set(a))\n",
    "print(b)\n",
    "\n",
    "errors=[]\n",
    "for i in lines:\n",
    "    c = i.split()\n",
    "    errors.append(\" \".join(c[2:]))\n",
    "print(errors)\n",
    "new_error=[]\n",
    "\n",
    "for i in b:\n",
    "    x=[]\n",
    "    for j in errors:\n",
    "        if i in j:\n",
    "            x.append(j)\n",
    "    new_error.append(x) \n",
    "\n",
    "for i in range(len(b)):\n",
    "    dict3[b[i]] = new_error[i]\n",
    "\n",
    "# for i in errors:\n",
    "#     for j in b:\n",
    "#         j =[]\n",
    "#         if j in i:\n",
    "#             dict3[j] = i\n",
    "#             break\n",
    "print(dict3)\n",
    "    \n",
    "# for i in lines:\n",
    "#     c=i.split()\n",
    "#     for j in c:\n",
    "#         if j in b:\n",
    "#             j =[]\n",
    "#             j.append(\" \".join(c[2:]))\n",
    "#         print(j)\n",
    "            # break\n",
    "# for i in b:\n",
    "#     if i == j:\n",
    "#         dict3[i] = j \n",
    "# print(ERROR)\n",
    "            "
   ]
  },
  {
   "cell_type": "code",
   "execution_count": null,
   "id": "3769a7e2-e849-4b19-a0a8-d61a73cdd3bd",
   "metadata": {},
   "outputs": [],
   "source": []
  }
 ],
 "metadata": {
  "kernelspec": {
   "display_name": "Python 3 (ipykernel)",
   "language": "python",
   "name": "python3"
  },
  "language_info": {
   "codemirror_mode": {
    "name": "ipython",
    "version": 3
   },
   "file_extension": ".py",
   "mimetype": "text/x-python",
   "name": "python",
   "nbconvert_exporter": "python",
   "pygments_lexer": "ipython3",
   "version": "3.12.3"
  }
 },
 "nbformat": 4,
 "nbformat_minor": 5
}
